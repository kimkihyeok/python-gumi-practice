{
 "cells": [
  {
   "cell_type": "markdown",
   "metadata": {},
   "source": [
    "### 집합자료형\n",
    "\n",
    "* 중복을 허용하지 않는다\n",
    "* 순서가 없다"
   ]
  },
  {
   "cell_type": "code",
   "execution_count": 10,
   "metadata": {},
   "outputs": [
    {
     "name": "stdout",
     "output_type": "stream",
     "text": [
      "{1, 2, 3}\n",
      "<class 'set'>\n",
      "{'name': 'pey', 'age': 30}\n",
      "<class 'dict'>\n"
     ]
    }
   ],
   "source": [
    "s1=set([1,2,3])\n",
    "dic={\"name\": \"pey\", \"age\": 30} \n",
    "#집합자료형\n",
    "print(s1)\n",
    "print(type(s1))\n",
    "\n",
    "#딕셔너리\n",
    "print(dic)\n",
    "print(type(dic))"
   ]
  },
  {
   "cell_type": "code",
   "execution_count": 7,
   "metadata": {},
   "outputs": [
    {
     "name": "stdout",
     "output_type": "stream",
     "text": [
      "{'o', 'e', 'l', 'h'}\n",
      "<class 'set'>\n"
     ]
    }
   ],
   "source": [
    "s2= set(\"hello\")\n",
    "print(s2)\n",
    "print(type(s2))"
   ]
  },
  {
   "cell_type": "code",
   "execution_count": 14,
   "metadata": {},
   "outputs": [
    {
     "name": "stdout",
     "output_type": "stream",
     "text": [
      "{1, 2, 3}\n",
      "<class 'set'>\n",
      "[1, 2, 3]\n",
      "<class 'list'>\n",
      "2\n",
      "(1, 2, 3)\n",
      "<class 'tuple'>\n",
      "2\n"
     ]
    }
   ],
   "source": [
    "# 집합 자료형\n",
    "s1=set([1,2,3])\n",
    "print(s1)\n",
    "print(type(s1))\n",
    "#print(s1[1])\n",
    "\n",
    "# 리스트함수를 통해 자료형 변환\n",
    "l1=list(s1)\n",
    "print(l1)\n",
    "print(type(l1))\n",
    "print(l1[1])\n",
    "\n",
    "#튜플함수를 이용해 자료형 변환\n",
    "t1= tuple(s1)\n",
    "print(t1)\n",
    "print(type(t1))\n",
    "print(t1[1])"
   ]
  },
  {
   "cell_type": "markdown",
   "metadata": {},
   "source": [
    "### 교집합, 합집합, 차집합 구하기\n",
    "\n",
    "* &,|,-"
   ]
  },
  {
   "cell_type": "code",
   "execution_count": 16,
   "metadata": {},
   "outputs": [
    {
     "name": "stdout",
     "output_type": "stream",
     "text": [
      "{1, 2, 3, 4, 5, 6}\n",
      "<class 'set'>\n",
      "{'name': 'pey', 'age': 30}\n",
      "<class 'dict'>\n"
     ]
    }
   ],
   "source": [
    "test = {1,2,3,4,5,6}\n",
    "print(test)\n",
    "print(type(test))\n",
    "\n",
    "test2 = {\"name\": \"pey\", \"age\": 30}\n",
    "print(test2)\n",
    "print(type(test2))"
   ]
  },
  {
   "cell_type": "code",
   "execution_count": 18,
   "metadata": {},
   "outputs": [
    {
     "name": "stdout",
     "output_type": "stream",
     "text": [
      "{4, 5, 6}\n",
      "[4, 5, 6]\n",
      "{4, 5, 6}\n"
     ]
    }
   ],
   "source": [
    "s1 = set([1,2,3,4,5,6])\n",
    "s2 = set([4,5,6,7,8,9])\n",
    "result = s1 & s2\n",
    "\n",
    "# 교집합\n",
    "print(result)\n",
    "print(list(result))\n",
    "\n",
    "# 교집합 - intersection()\n",
    "result= s1.intersection(s2)\n",
    "print(result)"
   ]
  },
  {
   "cell_type": "code",
   "execution_count": 20,
   "metadata": {},
   "outputs": [
    {
     "name": "stdout",
     "output_type": "stream",
     "text": [
      "{1, 2, 3, 4, 5, 6, 7, 8, 9}\n",
      "<class 'set'>\n",
      "union() 함수를 이용한 결과:  {1, 2, 3, 4, 5, 6, 7, 8, 9}\n"
     ]
    }
   ],
   "source": [
    "# 합집합 구하기(|)\n",
    "s1 = set([1,2,3,4,5,6])\n",
    "s2 = set([4,5,6,7,8,9])\n",
    "\n",
    "result = s1|s2\n",
    "print(result)\n",
    "print(type(result))\n",
    "\n",
    "# 합집합 - union()\n",
    "result = s1.union(s2)\n",
    "print(\"union() 함수를 이용한 결과: \", result)"
   ]
  },
  {
   "cell_type": "code",
   "execution_count": 22,
   "metadata": {},
   "outputs": [
    {
     "name": "stdout",
     "output_type": "stream",
     "text": [
      "{1, 2, 3}\n",
      "{8, 9, 7}\n",
      "{1, 2, 3}\n",
      "{8, 9, 7}\n"
     ]
    }
   ],
   "source": [
    "s1 = set([1,2,3,4,5,6])\n",
    "s2 = set([4,5,6,7,8,9])\n",
    "\n",
    "# 차집합 (-)\n",
    "result1= s1-s2\n",
    "print(result1)\n",
    "\n",
    "result2=s2-s1\n",
    "print(result2)\n",
    "\n",
    "# 차집합 (difference())\n",
    "result1=s1.difference(s2)\n",
    "print(result1)\n",
    "\n",
    "result2=s2.difference(s1)\n",
    "print(result2)"
   ]
  },
  {
   "cell_type": "markdown",
   "metadata": {},
   "source": [
    "### 집합자료형 관련함수"
   ]
  },
  {
   "cell_type": "code",
   "execution_count": 23,
   "metadata": {},
   "outputs": [
    {
     "name": "stdout",
     "output_type": "stream",
     "text": [
      "{1, 2, 3, 4}\n"
     ]
    }
   ],
   "source": [
    "# 값 1개 추가하기 - add()\n",
    "\n",
    "s1= set([1,2,3])\n",
    "s1.add(4)\n",
    "print(s1)\n",
    "\n",
    "# 요소 한 개만 추가가 가능\n",
    "# s1.add([2,3]) <-불가능"
   ]
  },
  {
   "cell_type": "code",
   "execution_count": 25,
   "metadata": {},
   "outputs": [
    {
     "name": "stdout",
     "output_type": "stream",
     "text": [
      "{1, 2, 3, 4, 5, 6}\n",
      "{1, 2, 3, 4, 5, 6, 7}\n"
     ]
    }
   ],
   "source": [
    "# 값 여러 개 추가하기 - update()\n",
    "\n",
    "#s1={1,2,3}\n",
    "s1=set([1,2,3])\n",
    "s1.update([4,5,6])\n",
    "print(s1)\n",
    "\n",
    "# 하나의 요소로는 업데이트의 인수로 받을 수 있음\n",
    "# s1.updat(7) <- 불가능\n",
    "\n",
    "# 하나의 리스트 요소로는 업데이트의 인수로 사용이 가능\n",
    "s1.update([7])\n",
    "print(s1)"
   ]
  },
  {
   "cell_type": "code",
   "execution_count": 26,
   "metadata": {},
   "outputs": [
    {
     "name": "stdout",
     "output_type": "stream",
     "text": [
      "{1, 3}\n"
     ]
    }
   ],
   "source": [
    "# 특정 값 제거하기 - remove()\n",
    "# s1 = {1,2,3}\n",
    "s1 = set([1,2,3]) \n",
    "s1.remove(2)\n",
    "\n",
    "print(s1)"
   ]
  },
  {
   "cell_type": "code",
   "execution_count": 36,
   "metadata": {},
   "outputs": [
    {
     "name": "stdout",
     "output_type": "stream",
     "text": [
      "['시원한', '공습으로', '여름이면', '있습니다', '생각이', '외국계', '국내', '가중되고', '어려움이', '미숫가루', '쇼핑몰의', '납니다', '기업의']\n"
     ]
    }
   ],
   "source": [
    "script1 = \"외국계 쇼핑몰의 공습으로 국내 기업의 어려움이 가중되고 있습니다\"\n",
    "script2 = \"여름이면 시원한 미숫가루 생각이 납니다\"\n",
    "s1 = script1.split()\n",
    "s2 = script2.split()\n",
    "\n",
    "sc1= set(s1)\n",
    "sc2= set(s2)\n",
    "\n",
    "result = sc1.union(sc2)\n",
    "result = list(result)\n",
    "print(result)"
   ]
  }
 ],
 "metadata": {
  "kernelspec": {
   "display_name": "Python 3",
   "language": "python",
   "name": "python3"
  },
  "language_info": {
   "codemirror_mode": {
    "name": "ipython",
    "version": 3
   },
   "file_extension": ".py",
   "mimetype": "text/x-python",
   "name": "python",
   "nbconvert_exporter": "python",
   "pygments_lexer": "ipython3",
   "version": "3.12.4"
  }
 },
 "nbformat": 4,
 "nbformat_minor": 2
}
